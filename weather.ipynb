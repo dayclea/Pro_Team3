{
 "cells": [
  {
   "cell_type": "code",
   "execution_count": 1,
   "id": "4cadc72e-2500-4b7c-b81b-dd0b97e38047",
   "metadata": {},
   "outputs": [],
   "source": [
    "import requests\n",
    "import bs4\n",
    "import pandas as pd\n",
    "import datetime as dt\n",
    "from lxml import html\n",
    "from urllib.request import Request, urlopen\n",
    "from urllib.parse import urlencode, quote_plus, unquote"
   ]
  },
  {
   "cell_type": "code",
   "execution_count": 2,
   "id": "a9ac3b04-a01b-45f2-8e7f-e79978875257",
   "metadata": {},
   "outputs": [],
   "source": [
    "def todayInfo():\n",
    "    todayIs = dt.datetime.now()\n",
    "        \n",
    "    year = str(todayIs.year)\n",
    "    if len(str(todayIs.month)) != 1:\n",
    "        month = str(todayIs.month)\n",
    "    else:\n",
    "        month = \"0\" + str(todayIs.month)\n",
    "    day = str(todayIs.day)\n",
    "    \n",
    "    return year + month + day"
   ]
  },
  {
   "cell_type": "code",
   "execution_count": 3,
   "id": "6eff179c-42ad-4e20-90ff-0e4bd7efd373",
   "metadata": {},
   "outputs": [],
   "source": [
    "def timeInfo():\n",
    "    timeIs = dt.datetime.now()\n",
    "    \n",
    "    if (timeIs.hour) < 3:\n",
    "        hours = \"0200\"\n",
    "    elif (timeIs.hour) < 6:\n",
    "        hours = \"0500\"\n",
    "    elif (timeIs.hour) < 9:\n",
    "        hours = \"0800\"\n",
    "    elif (timeIs.hour) < 12:\n",
    "        hours = \"1100\"\n",
    "    elif (timeIs.hour) < 15:\n",
    "        hours = \"1400\"\n",
    "    elif (timeIs.hour) < 18:\n",
    "        hours = \"1700\"\n",
    "    elif (timeIs.hour) < 21:\n",
    "        hours = \"2000\"\n",
    "    else:\n",
    "        hours = \"2300\"\n",
    "        \n",
    "    return hours"
   ]
  },
  {
   "cell_type": "code",
   "execution_count": 4,
   "id": "031c39d4-f8ec-436d-925b-ff1bc374c37f",
   "metadata": {
    "tags": []
   },
   "outputs": [
    {
     "name": "stdout",
     "output_type": "stream",
     "text": [
      "https://apis.data.go.kr/1360000/VilageFcstInfoService_2.0/getVilageFcst?ServiceKey=txTdKQwpVPsjw4%2BFt28LtAJwIUQVgGgpTkA8yS30WrDnbOuAn6M46TJUySvewlPJhxqQptIEPLONoz%2BEZuK0lw%3D%3D&numOfRows=12&pageNo=1&base_date=20220418&base_time=1700&nx=55&ny=127\n"
     ]
    }
   ],
   "source": [
    "baseUrl = \"https://apis.data.go.kr/1360000/VilageFcstInfoService_2.0/getVilageFcst\"\n",
    "inApiKey = \"txTdKQwpVPsjw4+Ft28LtAJwIUQVgGgpTkA8yS30WrDnbOuAn6M46TJUySvewlPJhxqQptIEPLONoz+EZuK0lw==\"\n",
    "inBaseDate = todayInfo()\n",
    "inBaseTime = timeInfo()\n",
    "inNumRows = \"12\"\n",
    "inPageNum = \"1\"\n",
    "inNx = \"55\"\n",
    "inNy = \"127\"\n",
    "\n",
    "queryParams = '?' + urlencode(\n",
    "    {\n",
    "        quote_plus('ServiceKey') : inApiKey,\n",
    "        quote_plus('numOfRows') : inNumRows,\n",
    "        quote_plus('pageNo') : inPageNum,\n",
    "        quote_plus('base_date') : inBaseDate,\n",
    "        quote_plus('base_time') : inBaseTime,\n",
    "        quote_plus('nx') : inNx,\n",
    "        quote_plus('ny') : inNy\n",
    "     }\n",
    ")\n",
    "\n",
    "targetUrl = baseUrl + queryParams\n",
    "\n",
    "print(targetUrl)"
   ]
  },
  {
   "cell_type": "code",
   "execution_count": 5,
   "id": "a9fbff4b-0930-4312-914e-898b38c49808",
   "metadata": {},
   "outputs": [
    {
     "name": "stdout",
     "output_type": "stream",
     "text": [
      "HTTPSConnectionPool(host='apis.data.go.kr', port=443): Max retries exceeded with url: /1360000/VilageFcstInfoService_2.0/getVilageFcst?ServiceKey=txTdKQwpVPsjw4%2BFt28LtAJwIUQVgGgpTkA8yS30WrDnbOuAn6M46TJUySvewlPJhxqQptIEPLONoz%2BEZuK0lw%3D%3D&numOfRows=12&pageNo=1&base_date=20220418&base_time=1700&nx=55&ny=127 (Caused by SSLError(SSLCertVerificationError(1, '[SSL: CERTIFICATE_VERIFY_FAILED] certificate verify failed: unable to get local issuer certificate (_ssl.c:1129)')))\n"
     ]
    }
   ],
   "source": [
    "try:\n",
    "    resp = requests.get(targetUrl)\n",
    "except Exception as e:\n",
    "    print(e)"
   ]
  }
 ],
 "metadata": {
  "kernelspec": {
   "display_name": "Python 3 (ipykernel)",
   "language": "python",
   "name": "python3"
  },
  "language_info": {
   "codemirror_mode": {
    "name": "ipython",
    "version": 3
   },
   "file_extension": ".py",
   "mimetype": "text/x-python",
   "name": "python",
   "nbconvert_exporter": "python",
   "pygments_lexer": "ipython3",
   "version": "3.9.7"
  }
 },
 "nbformat": 4,
 "nbformat_minor": 5
}
