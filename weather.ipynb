{
 "cells": [
  {
   "cell_type": "code",
   "execution_count": 1,
   "id": "4cadc72e-2500-4b7c-b81b-dd0b97e38047",
   "metadata": {},
   "outputs": [],
   "source": [
    "# 라이브러리 선언\n",
    "import requests\n",
    "import bs4\n",
    "import pandas as pd\n",
    "import myFunction as mf\n",
    "import os\n",
    "from lxml import html\n",
    "from urllib.request import Request, urlopen\n",
    "from urllib.parse import urlencode, quote_plus, unquote"
   ]
  },
  {
   "cell_type": "code",
   "execution_count": 2,
   "id": "604e9f1d-3a19-4a11-93f6-517e28aa9ba8",
   "metadata": {
    "tags": []
   },
   "outputs": [
    {
     "name": "stderr",
     "output_type": "stream",
     "text": [
      "C:\\Users\\myWin\\anaconda3\\lib\\site-packages\\urllib3\\connectionpool.py:1013: InsecureRequestWarning: Unverified HTTPS request is being made to host 'apis.data.go.kr'. Adding certificate verification is strongly advised. See: https://urllib3.readthedocs.io/en/1.26.x/advanced-usage.html#ssl-warnings\n",
      "  warnings.warn(\n"
     ]
    }
   ],
   "source": [
    "baseUrl = \"https://apis.data.go.kr/1360000/VilageFcstInfoService_2.0/getVilageFcst\"\n",
    "inApiKey = \"txTdKQwpVPsjw4+Ft28LtAJwIUQVgGgpTkA8yS30WrDnbOuAn6M46TJUySvewlPJhxqQptIEPLONoz+EZuK0lw==\"\n",
    "inBaseDate = mf.todayInfo()\n",
    "inBaseTime = mf.timeInfo()\n",
    "inNumRows = \"12\"\n",
    "inPageNum = \"1\"\n",
    "inNx = \"55\"\n",
    "inNy = \"127\"\n",
    "\n",
    "queryParams = '?' + urlencode(\n",
    "    {\n",
    "        quote_plus('ServiceKey') : inApiKey,\n",
    "        quote_plus('numOfRows') : inNumRows,\n",
    "        quote_plus('pageNo') : inPageNum,\n",
    "        quote_plus('base_date') : inBaseDate,\n",
    "        quote_plus('base_time') : inBaseTime,\n",
    "        quote_plus('nx') : inNx,\n",
    "        quote_plus('ny') : inNy\n",
    "     }\n",
    ")\n",
    "\n",
    "# 위 변수들을 조합하여 최종적으로 접근할 Url 산출\n",
    "targetUrl = baseUrl + queryParams\n",
    "\n",
    "# 확인용 print문\n",
    "# print(targetUrl)\n",
    "\n",
    "# 현재 해당 페이지에 접근할 때 SSL 인증 실패 발생. verify 를 false 로 주어서 경고 무시\n",
    "try:\n",
    "    resp = requests.get(targetUrl, verify = False)\n",
    "except Exception as e:\n",
    "    print(e)\n",
    "\n",
    "# resp를 xml 파싱\n",
    "bs = bs4.BeautifulSoup(resp.text, \"lxml-xml\")\n",
    "\n",
    "# 파싱한 결과물을 items 태그로 좁힘\n",
    "itemsTag = bs.find(\"items\")\n",
    "\n",
    "# items 태그로 좁힌 것들 중 item 태그를 가진 것들을 전부 list 형태로 추출\n",
    "itemTag = itemsTag.findAll(\"item\")"
   ]
  },
  {
   "cell_type": "code",
   "execution_count": 5,
   "id": "0f714660-4161-4d78-a598-dace2aa8f72f",
   "metadata": {},
   "outputs": [],
   "source": [
    "# 뒤에서 최종결과로 나온 리스트에 추가할 칼럼값 2개 추출\n",
    "fcstTime = itemTag[0].fcstTime.text\n",
    "fcstDate = itemTag[0].fcstDate.text\n",
    "\n",
    "# 카테고리 값과 예보 값을 담을 리스트 선언\n",
    "categoryList = []\n",
    "fcstValueList = []\n",
    "\n",
    "# 각각의 내용물만 받을 수 있도록 반복문 실행\n",
    "for i in range(0, len(itemTag)):\n",
    "    categoryList.append(itemTag[i].category.text)\n",
    "    fcstValueList.append(itemTag[i].fcstValue.text)\n",
    "\n",
    "# 반복문 결과 확인용 print문\n",
    "# print(categoryList)\n",
    "# print(fcstValueList)\n",
    "\n",
    "# convertColName 함수를 이용하여 category명을 전부 의미하는 내용으로 변환\n",
    "nameList = mf.convertColName(categoryList)\n",
    "\n",
    "# 확인용 print문\n",
    "# print(nameList)\n",
    "\n",
    "# 칼럼명 2개를 추가해주면 되는 것들이기에 insert로 별도 추가\n",
    "nameList.insert(0, \"예보일자\")\n",
    "nameList.insert(1, \"예보시각\")\n",
    "\n",
    "# 각 데이터의 가장 앞에 붙여주면 되는 것들이기에 insert로 별도 추가\n",
    "fcstValueList.insert(0, fcstDate)\n",
    "fcstValueList.insert(1, fcstTime)\n",
    "\n",
    "# 예보의 값 확인용 print문\n",
    "# print(fcstValueList)\n",
    "\n",
    "# 하나의 행으로 만들기 위하여 새로 리스트 선언 후, 값들이 들은 fcstValueList를 append\n",
    "rawList = []\n",
    "\n",
    "rawList.append(fcstValueList)\n",
    "\n",
    "# 정상입력 확인용 print문\n",
    "# pd.DataFrame(rawList, columns = nameList)"
   ]
  },
  {
   "cell_type": "code",
   "execution_count": 4,
   "id": "41d28bb6-b1f7-4524-be71-cb4334287737",
   "metadata": {},
   "outputs": [],
   "source": [
    "# 데이터프레임을 csv로 출력 및 누적하는 코드\n",
    "if not os.path.exists(\"./weather.csv\"):\n",
    "    outputData = pd.DataFrame(rawList, columns = nameList)\n",
    "    outputData.to_csv(\"./weather.csv\", index = False, mode = \"w\", encoding = \"ms949\")\n",
    "    rawList = []\n",
    "else:\n",
    "    outputData = pd.DataFrame(rawList)\n",
    "    outputData.to_csv(\"./weather.csv\", index = False, mode = \"a\", header = False, encoding = \"ms949\")\n",
    "    rawList = []"
   ]
  }
 ],
 "metadata": {
  "kernelspec": {
   "display_name": "Python 3 (ipykernel)",
   "language": "python",
   "name": "python3"
  },
  "language_info": {
   "codemirror_mode": {
    "name": "ipython",
    "version": 3
   },
   "file_extension": ".py",
   "mimetype": "text/x-python",
   "name": "python",
   "nbconvert_exporter": "python",
   "pygments_lexer": "ipython3",
   "version": "3.9.7"
  }
 },
 "nbformat": 4,
 "nbformat_minor": 5
}
