{
 "cells": [
  {
   "cell_type": "code",
   "execution_count": null,
   "id": "362fbae2-d3fb-4d0e-8c56-f48a2c85f007",
   "metadata": {},
   "outputs": [],
   "source": [
    "import datetime as dt"
   ]
  },
  {
   "cell_type": "code",
   "execution_count": 2,
   "id": "28b9798f-0454-437b-aac1-87a23630d696",
   "metadata": {},
   "outputs": [],
   "source": [
    "def todayInfo():\n",
    "    todayIs = dt.datetime.now()\n",
    "        \n",
    "    year = str(todayIs.year)\n",
    "    if len(str(todayIs.month)) != 1:\n",
    "        month = str(todayIs.month)\n",
    "    else:\n",
    "        month = \"0\" + str(todayIs.month)\n",
    "    day = str(todayIs.day)\n",
    "    \n",
    "    return year + month + day"
   ]
  },
  {
   "cell_type": "code",
   "execution_count": 3,
   "id": "1d6df390-1d35-4b2e-9679-145ff1e973ed",
   "metadata": {},
   "outputs": [],
   "source": [
    "def timeInfo():\n",
    "    timeIs = dt.datetime.now()\n",
    "    \n",
    "    if (timeIs.hour) < 4:\n",
    "        hours = \"0200\"\n",
    "    elif (timeIs.hour) < 7:\n",
    "        hours = \"0500\"\n",
    "    elif (timeIs.hour) < 10:\n",
    "        hours = \"0800\"\n",
    "    elif (timeIs.hour) < 13:\n",
    "        hours = \"1100\"\n",
    "    elif (timeIs.hour) < 16:\n",
    "        hours = \"1400\"\n",
    "    elif (timeIs.hour) < 19:\n",
    "        hours = \"1700\"\n",
    "    elif (timeIs.hour) < 22:\n",
    "        hours = \"2000\"\n",
    "    else:\n",
    "        hours = \"2300\"\n",
    "        \n",
    "    return hours"
   ]
  },
  {
   "cell_type": "code",
   "execution_count": 12,
   "id": "da2d6c91-249b-4ee5-9ff7-6090161c7c48",
   "metadata": {},
   "outputs": [],
   "source": [
    "def convertColName(targetList):\n",
    "\n",
    "    newList = []\n",
    "    \n",
    "    for i in range(0, len(targetList)):\n",
    "\n",
    "        if targetList[i] == \"TMP\":\n",
    "            newList.append(\"1시간 기온 (단위 : ℃)\")\n",
    "        elif targetList[i] == \"POP\":\n",
    "            newList.append(\"강수확률 (단위 : %)\")\n",
    "        elif targetList[i] == \"PTY\":\n",
    "            newList.append(\"강수형태\")\n",
    "        elif targetList[i] == \"PCP\":\n",
    "            newList.append(\"시간 당 강수량 (단위 : mm)\")\n",
    "        elif targetList[i] == \"REH\":\n",
    "            newList.append(\"습도 (단위 : %)\")\n",
    "        elif targetList[i] == \"SNO\":\n",
    "            newList.append(\"시간 당 적설량 (단위 : cm)\")\n",
    "        elif targetList[i] == \"SKY\":\n",
    "            newList.append(\"하늘상태\")\n",
    "        elif targetList[i] == \"TMN\":\n",
    "            newList.append(\"일 최저기온 (단위 : ℃)\")\n",
    "        elif targetList[i] == \"TMX\":\n",
    "            newList.append(\"일 최고기온 (단위 : ℃)\")\n",
    "        elif targetList[i] == \"UUU\":\n",
    "            newList.append(\"풍속/동서성분 (단위 : m/s)\")\n",
    "        elif targetList[i] == \"VVV\":\n",
    "            newList.append(\"풍속/남북성분 (단위 : m/s)\")\n",
    "        elif targetList[i] == \"WAV\":\n",
    "            newList.append(\"파고 (단위 : M)\")\n",
    "        elif targetList[i] == \"VEC\":\n",
    "            newList.append(\"풍향 (단위 : deg)\")\n",
    "        elif targetList[i] == \"WSD\":\n",
    "            newList.append(\"풍속 (단위 : m/s)\")\n",
    "        else:\n",
    "            pass\n",
    "        \n",
    "    return newList"
   ]
  }
 ],
 "metadata": {
  "kernelspec": {
   "display_name": "Python 3 (ipykernel)",
   "language": "python",
   "name": "python3"
  },
  "language_info": {
   "codemirror_mode": {
    "name": "ipython",
    "version": 3
   },
   "file_extension": ".py",
   "mimetype": "text/x-python",
   "name": "python",
   "nbconvert_exporter": "python",
   "pygments_lexer": "ipython3",
   "version": "3.9.7"
  }
 },
 "nbformat": 4,
 "nbformat_minor": 5
}
