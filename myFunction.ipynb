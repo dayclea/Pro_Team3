{
 "cells": [
  {
   "cell_type": "code",
   "execution_count": null,
   "id": "362fbae2-d3fb-4d0e-8c56-f48a2c85f007",
   "metadata": {},
   "outputs": [],
   "source": [
    "import datetime as dt\n",
    "from sqlalchemy import types\n",
    "from sqlalchemy import create_engine \n",
    "import cx_Oracle"
   ]
  },
  {
   "cell_type": "code",
   "execution_count": 2,
   "id": "28b9798f-0454-437b-aac1-87a23630d696",
   "metadata": {},
   "outputs": [],
   "source": [
    "def todayInfo():\n",
    "    todayIs = dt.datetime.now()\n",
    "        \n",
    "    year = str(todayIs.year)\n",
    "    if len(str(todayIs.month)) != 1:\n",
    "        month = str(todayIs.month)\n",
    "    else:\n",
    "        month = \"0\" + str(todayIs.month)\n",
    "    day = str(todayIs.day)\n",
    "    \n",
    "    return year + month + day"
   ]
  },
  {
   "cell_type": "code",
   "execution_count": 3,
   "id": "1d6df390-1d35-4b2e-9679-145ff1e973ed",
   "metadata": {},
   "outputs": [],
   "source": [
    "def timeInfo():\n",
    "    timeIs = dt.datetime.now()\n",
    "    \n",
    "    if (timeIs.hour) < 4:\n",
    "        hours = \"0200\"\n",
    "    elif (timeIs.hour) < 7:\n",
    "        hours = \"0500\"\n",
    "    elif (timeIs.hour) < 10:\n",
    "        hours = \"0800\"\n",
    "    elif (timeIs.hour) < 13:\n",
    "        hours = \"1100\"\n",
    "    elif (timeIs.hour) < 16:\n",
    "        hours = \"1400\"\n",
    "    elif (timeIs.hour) < 19:\n",
    "        hours = \"1700\"\n",
    "    elif (timeIs.hour) < 22:\n",
    "        hours = \"2000\"\n",
    "    else:\n",
    "        hours = \"2300\"\n",
    "        \n",
    "    return hours"
   ]
  },
  {
   "cell_type": "code",
   "execution_count": 12,
   "id": "da2d6c91-249b-4ee5-9ff7-6090161c7c48",
   "metadata": {},
   "outputs": [],
   "source": [
    "def convertColName(targetList):\n",
    "\n",
    "    newList = []\n",
    "    \n",
    "    for i in range(0, len(targetList)):\n",
    "\n",
    "        if targetList[i] == \"TMP\":\n",
    "            newList.append(\"1시간 기온 (단위 : ℃)\")\n",
    "        elif targetList[i] == \"POP\":\n",
    "            newList.append(\"강수확률 (단위 : %)\")\n",
    "        elif targetList[i] == \"PTY\":\n",
    "            newList.append(\"강수형태\")\n",
    "        elif targetList[i] == \"PCP\":\n",
    "            newList.append(\"시간 당 강수량 (단위 : mm)\")\n",
    "        elif targetList[i] == \"REH\":\n",
    "            newList.append(\"습도 (단위 : %)\")\n",
    "        elif targetList[i] == \"SNO\":\n",
    "            newList.append(\"시간 당 적설량 (단위 : cm)\")\n",
    "        elif targetList[i] == \"SKY\":\n",
    "            newList.append(\"하늘상태\")\n",
    "        elif targetList[i] == \"TMN\":\n",
    "            newList.append(\"일 최저기온 (단위 : ℃)\")\n",
    "        elif targetList[i] == \"TMX\":\n",
    "            newList.append(\"일 최고기온 (단위 : ℃)\")\n",
    "        elif targetList[i] == \"UUU\":\n",
    "            newList.append(\"풍속/동서성분 (단위 : m/s)\")\n",
    "        elif targetList[i] == \"VVV\":\n",
    "            newList.append(\"풍속/남북성분 (단위 : m/s)\")\n",
    "        elif targetList[i] == \"WAV\":\n",
    "            newList.append(\"파고 (단위 : M)\")\n",
    "        elif targetList[i] == \"VEC\":\n",
    "            newList.append(\"풍향 (단위 : deg)\")\n",
    "        elif targetList[i] == \"WSD\":\n",
    "            newList.append(\"풍속 (단위 : m/s)\")\n",
    "        else:\n",
    "            pass\n",
    "        \n",
    "    return newList"
   ]
  },
  {
   "cell_type": "code",
   "execution_count": 1,
   "id": "9186cea4-60e7-4f77-bbe9-f4b337933c0a",
   "metadata": {},
   "outputs": [
    {
     "ename": "SyntaxError",
     "evalue": "EOL while scanning string literal (Temp/ipykernel_4304/3112532788.py, line 22)",
     "output_type": "error",
     "traceback": [
      "\u001b[1;36m  File \u001b[1;32m\"C:\\Users\\SMART-03\\AppData\\Local\\Temp/ipykernel_4304/3112532788.py\"\u001b[1;36m, line \u001b[1;32m22\u001b[0m\n\u001b[1;33m    baseUpdateString = \"INSERT INTO WEATHER (\u001b[0m\n\u001b[1;37m                                             ^\u001b[0m\n\u001b[1;31mSyntaxError\u001b[0m\u001b[1;31m:\u001b[0m EOL while scanning string literal\n"
     ]
    }
   ],
   "source": [
    "def dbUpdate(nameList):\n",
    "\n",
    "    ENCODING = \"ms949\"\n",
    "    TARGETDATANAME = \"kopo_product_volume\"\n",
    "    DBPREFIX=\"oracle+cx_oracle\"\n",
    "    DBIP=\"127.0.0.1\"\n",
    "    DBID=\"kopo\"\n",
    "    DBPW=\"kopo\"\n",
    "    DBPORT=\"1521\"\n",
    "    DBNAME=\"xe\"\n",
    "    VARCHARMAX = 100\n",
    "    \n",
    "    # DB커넥션 생성\n",
    "    dbconnectingInfo = \"{}://{}:{}@{}:{}/{}\".format(DBPREFIX, DBID, DBPW, DBIP, DBPORT, DBNAME)\n",
    "\n",
    "    engine = create_engine(dbconnectingInfo) \n",
    "    \n",
    "    # 테이블에 추가하기 위한 query 실행\n",
    "    checkTableQuery = \"SELECT WEATHER FROM TABS;\"\n",
    "    \n",
    "    queryString = \"\"\n",
    "\n",
    "    for i in range(0, len(nameList)):\n",
    "        queryString = queryString + nameList[i]\n",
    "        if (i != len(nameList) - 1):\n",
    "            queryString = queryString + \",\"\n",
    "    \n",
    "    baseCreateString = \"CREATE TABLE WEATHER (\" + queryString + \")\"\n",
    "    baseUpdateString = \"INSERT INTO WEATHER VALUES (\" + rawList + \")\"\n",
    "    pkString = \"CONSTRAINTS PK_WEATHER PRIMARY KEY \"\n",
    "    \n",
    "    sqlCreate = queryString\n",
    "    # 기존에 DB에 테이블이 존재할 경우\n",
    "    if (engine.execute(checkQuery)):\n",
    "        # update query\n",
    "    # DB에 테이블이 존재하지 않을 경우\n",
    "    else:\n",
    "        engine.execute(sqlCreate)"
   ]
  }
 ],
 "metadata": {
  "kernelspec": {
   "display_name": "Python 3 (ipykernel)",
   "language": "python",
   "name": "python3"
  },
  "language_info": {
   "codemirror_mode": {
    "name": "ipython",
    "version": 3
   },
   "file_extension": ".py",
   "mimetype": "text/x-python",
   "name": "python",
   "nbconvert_exporter": "python",
   "pygments_lexer": "ipython3",
   "version": "3.9.7"
  }
 },
 "nbformat": 4,
 "nbformat_minor": 5
}
