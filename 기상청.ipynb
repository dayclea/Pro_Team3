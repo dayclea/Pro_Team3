{
 "cells": [
  {
   "cell_type": "code",
   "execution_count": 1,
   "id": "a14a4835-d049-47cd-aa3d-7eba70aa55b6",
   "metadata": {},
   "outputs": [],
   "source": [
    "### 기상청\n",
    "### 항공기상전문 IWXXM Ver 2.0\n",
    "\n",
    "### json 데이터 엉망임\n",
    "### xml로 긁어오자\n",
    "\n",
    "### xml도 개판임...\n",
    "### items,item으로 구분을 안해놓음 ㅋㅋㅋㅋㅋㅋㅋㅋㅋㅋㅋㅋ\n",
    "\n",
    "import requests\n",
    "from lxml import html\n",
    "from bs4 import BeautifulSoup\n",
    "import pandas as pd"
   ]
  },
  {
   "cell_type": "code",
   "execution_count": 2,
   "id": "5951c37a-e125-4cf9-8e84-4b8ea10a23f4",
   "metadata": {},
   "outputs": [],
   "source": [
    "url1 = \"http://apis.data.go.kr/1360000/AmmIwxxmService/getMetar?\"\n",
    "queryParams1 = \"serviceKey=GJjpqYxiJQTyHZDeJ5gyrFOlxRdSpZZ4NVCk19ID1Atavb0r9vArFS8tvyvKrP5/Z3HbZrUPAx4pG/YBLuvTqA==&icao=RKSI\"\n",
    "\n",
    "targetUrl1 = url1 + queryParams1\n",
    "\n",
    "response = requests.get(targetUrl1)\n",
    "response.encoding = 'utf-8'"
   ]
  },
  {
   "cell_type": "code",
   "execution_count": 4,
   "id": "b4f4d137-d68b-4b8b-9276-2963211f1aeb",
   "metadata": {},
   "outputs": [],
   "source": [
    "### lxml-xml 으로 변환\n",
    "xmlobj = BeautifulSoup(response.text,\"lxml-xml\")\n",
    "itemTag = xmlobj.find(name = \"items\")"
   ]
  },
  {
   "cell_type": "code",
   "execution_count": 9,
   "id": "12f1e5ca-cd78-4da5-9c97-9897b2d3fee2",
   "metadata": {
    "scrolled": true,
    "tags": []
   },
   "outputs": [
    {
     "data": {
      "text/plain": [
       "<item><icaoCode/><airportName/><metarMsg><iwxxm:METAR automatedStation=\"false\" gml:id=\"metar-RKSI-20220413043000Z\" permissibleUsage=\"OPERATIONAL\" status=\"NORMAL\" xmlns:aixm=\"http://www.aixm.aero/schema/5.1.1\" xmlns:gml=\"http://www.opengis.net/gml/3.2\" xmlns:iwxxm=\"http://icao.int/iwxxm/2.0\" xmlns:metce=\"http://def.wmo.int/metce/2013\" xmlns:om=\"http://www.opengis.net/om/2.0\" xmlns:sams=\"http://www.opengis.net/samplingSpatial/2.0\" xmlns:sf=\"http://www.opengis.net/sampling/2.0\" xmlns:xlink=\"http://www.w3.org/1999/xlink\" xmlns:xsi=\"http://www.w3.org/2001/XMLSchema-instance\" xsi:schemaLocation=\"http://icao.int/iwxxm/2.0 http://schemas.wmo.int/iwxxm/2.0/iwxxm.xsd http://def.wmo.int/metce/2013 http://schemas.wmo.int/metce/1.2/metce.xsd http://www.opengis.net/samplingSpatial/2.0 http://schemas.opengis.net/samplingSpatial/2.0/spatialSamplingFeature.xsd\">\n",
       "<iwxxm:extension>\n",
       "<msgText>METAR RKSI 130430Z 06013KT 020V100 9999 BKN030 OVC100 15/07&amp;#13;\n",
       "          Q1014 NOSIG=</msgText>\n",
       "</iwxxm:extension>\n",
       "<iwxxm:observation>\n",
       "<om:OM_Observation gml:id=\"obs-RKSI-20220413043000Z\">\n",
       "<om:type xlink:href=\"http://codes.wmo.int/49-2/observation-type/IWXXM/1.0/MeteorologicalAerodromeObservation\"/>\n",
       "<om:phenomenonTime>\n",
       "<gml:TimeInstant gml:id=\"ti-20220413043000Z\">\n",
       "<gml:timePosition>2022-04-13T04:30:00Z</gml:timePosition>\n",
       "</gml:TimeInstant>\n",
       "</om:phenomenonTime>\n",
       "<om:resultTime xlink:href=\"#ti-20220413043000Z\"/>\n",
       "<om:procedure>\n",
       "<metce:Process gml:id=\"p-49-2-metar\">\n",
       "<gml:description>WMO No. 49 Volume 2 Meteorological Service for International Air Navigation APPENDIX 3 TECHNICAL SPECIFICATIONS RELATED TO METEOROLOGICAL OBSERVATIONS AND REPORTS</gml:description>\n",
       "</metce:Process>\n",
       "</om:procedure>\n",
       "<om:observedProperty xlink:href=\"http://codes.wmo.int/49-2/observable-property/MeteorologicalAerodromeObservation\"/>\n",
       "<om:featureOfInterest>\n",
       "<sams:SF_SpatialSamplingFeature gml:id=\"sp-RKSI\">\n",
       "<sf:type xlink:href=\"http://www.opengis.net/def/samplingFeatureType/OGC-OM/2.0/SF_SamplingPoint\"/>\n",
       "<sf:sampledFeature>\n",
       "<aixm:AirportHeliport gml:id=\"aerodrome-RKSI\">\n",
       "<aixm:timeSlice>\n",
       "<aixm:AirportHeliportTimeSlice gml:id=\"aerodrome-RKSI-ts\">\n",
       "<gml:validTime/>\n",
       "<aixm:interpretation>BASELINE</aixm:interpretation>\n",
       "<aixm:designator>RKSI</aixm:designator>\n",
       "<aixm:name>INCHEON INTERNATIONAL AIRPORT</aixm:name>\n",
       "<aixm:locationIndicatorICAO>RKSI</aixm:locationIndicatorICAO>\n",
       "</aixm:AirportHeliportTimeSlice>\n",
       "</aixm:timeSlice>\n",
       "</aixm:AirportHeliport>\n",
       "</sf:sampledFeature>\n",
       "<sams:shape>\n",
       "<gml:Point axisLabels=\"Latitude Longitude Altitude\" gml:id=\"obs-point-RKSI\" srsName=\"http://www.opengis.net/def/crs/EPSG/0/4979\" uomLabels=\"deg deg m\">\n",
       "<gml:pos>37.28 126.26 7.0</gml:pos>\n",
       "</gml:Point>\n",
       "</sams:shape>\n",
       "</sams:SF_SpatialSamplingFeature>\n",
       "</om:featureOfInterest>\n",
       "<om:result>\n",
       "<iwxxm:MeteorologicalAerodromeObservationRecord cloudAndVisibilityOK=\"false\" gml:id=\"observation-record-RKSI-20220413043000Z\">\n",
       "<iwxxm:airTemperature uom=\"Cel\">15</iwxxm:airTemperature>\n",
       "<iwxxm:dewpointTemperature uom=\"Cel\">7</iwxxm:dewpointTemperature>\n",
       "<iwxxm:qnh uom=\"hPa\">1014</iwxxm:qnh>\n",
       "<iwxxm:surfaceWind>\n",
       "<iwxxm:AerodromeSurfaceWind variableWindDirection=\"false\">\n",
       "<iwxxm:meanWindDirection uom=\"deg\">60</iwxxm:meanWindDirection>\n",
       "<iwxxm:meanWindSpeed uom=\"[kn_i]\">013</iwxxm:meanWindSpeed>\n",
       "<iwxxm:extremeClockwiseWindDirection uom=\"deg\">100</iwxxm:extremeClockwiseWindDirection>\n",
       "<iwxxm:extremeCounterClockwiseWindDirection uom=\"deg\">020</iwxxm:extremeCounterClockwiseWindDirection>\n",
       "</iwxxm:AerodromeSurfaceWind>\n",
       "</iwxxm:surfaceWind>\n",
       "<iwxxm:visibility>\n",
       "<iwxxm:AerodromeHorizontalVisibility>\n",
       "<iwxxm:prevailingVisibility uom=\"m\">10000</iwxxm:prevailingVisibility>\n",
       "</iwxxm:AerodromeHorizontalVisibility>\n",
       "</iwxxm:visibility>\n",
       "<iwxxm:cloud>\n",
       "<iwxxm:AerodromeObservedClouds>\n",
       "<iwxxm:layer>\n",
       "<iwxxm:CloudLayer>\n",
       "<iwxxm:amount xlink:href=\"http://codes.wmo.int/bufr4/codeflag/0-20-008/3\"/>\n",
       "<iwxxm:base uom=\"[ft_i]\">3000</iwxxm:base>\n",
       "<iwxxm:cloudType xlink:href=\"http://codes.wmo.int/bufr4/codeflag/0-20-012/6\" xlink:title=\"Stratocumulus\"/>\n",
       "</iwxxm:CloudLayer>\n",
       "</iwxxm:layer>\n",
       "<iwxxm:layer>\n",
       "<iwxxm:CloudLayer>\n",
       "<iwxxm:amount xlink:href=\"http://codes.wmo.int/bufr4/codeflag/0-20-008/4\"/>\n",
       "<iwxxm:base uom=\"[ft_i]\">10000</iwxxm:base>\n",
       "<iwxxm:cloudType xlink:href=\"http://codes.wmo.int/bufr4/codeflag/0-20-012/4\" xlink:title=\"Altostratus\"/>\n",
       "</iwxxm:CloudLayer>\n",
       "</iwxxm:layer>\n",
       "</iwxxm:AerodromeObservedClouds>\n",
       "</iwxxm:cloud>\n",
       "</iwxxm:MeteorologicalAerodromeObservationRecord>\n",
       "</om:result>\n",
       "</om:OM_Observation>\n",
       "</iwxxm:observation>\n",
       "<iwxxm:trendForecast>\n",
       "<om:OM_Observation gml:id=\"trend-fcst-1\">\n",
       "<om:type xlink:href=\"http://codes.wmo.int/49-2/observation-type/IWXXM/1.0/MeteorologicalAerodromeTrendForecast\"/>\n",
       "<om:phenomenonTime xlink:href=\"#ti-20220413043000Z\"/>\n",
       "<om:resultTime xlink:href=\"#ti-20220413043000Z\"/>\n",
       "<om:procedure xlink:href=\"#p-49-2-metar\"/>\n",
       "<om:observedProperty xlink:href=\"http://codes.wmo.int/49-2/observable-property/MeteorologicalAerodromeTrendForecast\"/>\n",
       "<om:featureOfInterest xlink:href=\"#sp-RKSI\"/>\n",
       "<om:result>\n",
       "<iwxxm:MeteorologicalAerodromeTrendForecastRecord changeIndicator=\"NO_SIGNIFICANT_CHANGES\" cloudAndVisibilityOK=\"false\" gml:id=\"trend-fcst-record-1-20220413043000Z\"/>\n",
       "</om:result>\n",
       "</om:OM_Observation>\n",
       "</iwxxm:trendForecast>\n",
       "</iwxxm:METAR>\n",
       "</metarMsg></item>"
      ]
     },
     "execution_count": 9,
     "metadata": {},
     "output_type": "execute_result"
    }
   ],
   "source": [
    "itemsTag = itemTag.find(name = \"item\")\n",
    "itemsTag"
   ]
  },
  {
   "cell_type": "code",
   "execution_count": null,
   "id": "5c19cb24-d63b-4426-a5b4-99d162e0b45d",
   "metadata": {},
   "outputs": [],
   "source": [
    "for i in range(0,itemsTag.length):\n",
    "    timeTags = itemsTag[i].findAll()"
   ]
  }
 ],
 "metadata": {
  "kernelspec": {
   "display_name": "Python 3 (ipykernel)",
   "language": "python",
   "name": "python3"
  },
  "language_info": {
   "codemirror_mode": {
    "name": "ipython",
    "version": 3
   },
   "file_extension": ".py",
   "mimetype": "text/x-python",
   "name": "python",
   "nbconvert_exporter": "python",
   "pygments_lexer": "ipython3",
   "version": "3.9.7"
  }
 },
 "nbformat": 4,
 "nbformat_minor": 5
}
