{
 "cells": [
  {
   "cell_type": "code",
   "execution_count": 1,
   "id": "d7ee730b-ea85-4d89-997b-c3c68288f553",
   "metadata": {},
   "outputs": [],
   "source": [
    "from isoweek import Week\n",
    "def preWeek(firstValue ,secondValue):\n",
    "    firstValue = str(firstValue)\n",
    "    secondValue = int(secondValue)\n",
    "    \n",
    "    year = int(firstValue[:4]) ##뒤 두 자리를 제거한 년도 4자리 년도만 가능(년도)\n",
    "    weeks = int(firstValue[-2:]) ##뒤 두자리(주차)\n",
    "    yearweek = Week.last_week_of_year(year).week #현재년도 몇 주차까지 있는지\n",
    "    weeksInfo = weeks - secondValue ## 현재 주차 - 조회할 이전 주차(이전이 양수, 이후가 음수)\n",
    "    \n",
    "    if(secondValue >= 0): #secondValue가 양수일 때(과거조회)\n",
    "        while( -weeksInfo >= 0): ##참이라면 루프 거짓일 때 탈출\n",
    "            ##현재 주차 - 입력한 주차의 값이 음수거나 0일 때\n",
    "            year = year - 1 #과거조회이므로 1씩 감소시킴\n",
    "            yearweek = Week.last_week_of_year(year).week  #1년 감소된 년도는 몇주차까지?\n",
    "            weeksInfo =  yearweek + weeksInfo \n",
    "            \n",
    "    else: #secondValue가 음수일 때(미래조회)\n",
    "        while ( weeksInfo > yearweek):\n",
    "            year = year + 1 #미래조회이므로 1씩 증가시킴\n",
    "            weeksInfo = weeksInfo - yearweek \n",
    "            yearweek = Week.last_week_of_year(year).week #1년 증가된 년도는 몇주차까지?\n",
    "                 \n",
    "    output1 = str(year)\n",
    "    output2 = 0\n",
    "    \n",
    "    if (weeksInfo < 10):\n",
    "        output2 = \"0\" + str(weeksInfo)\n",
    "    else:\n",
    "        output2 = str(weeksInfo)\n",
    "    \n",
    "    printOutput = output1+output2\n",
    "    return  printOutput\n",
    "\n"
   ]
  },
  {
   "cell_type": "code",
   "execution_count": 4,
   "id": "e4c7a357-4b16-456c-acc8-8493552c2464",
   "metadata": {},
   "outputs": [
    {
     "data": {
      "text/plain": [
       "'201252'"
      ]
     },
     "execution_count": 4,
     "metadata": {},
     "output_type": "execute_result"
    }
   ],
   "source": [
    "preWeek(20134,34)"
   ]
  },
  {
   "cell_type": "code",
   "execution_count": null,
   "id": "2d736e2f-74f1-4bb1-a19b-41d21b5accab",
   "metadata": {},
   "outputs": [],
   "source": []
  }
 ],
 "metadata": {
  "kernelspec": {
   "display_name": "Python 3 (ipykernel)",
   "language": "python",
   "name": "python3"
  },
  "language_info": {
   "codemirror_mode": {
    "name": "ipython",
    "version": 3
   },
   "file_extension": ".py",
   "mimetype": "text/x-python",
   "name": "python",
   "nbconvert_exporter": "python",
   "pygments_lexer": "ipython3",
   "version": "3.9.7"
  }
 },
 "nbformat": 4,
 "nbformat_minor": 5
}
